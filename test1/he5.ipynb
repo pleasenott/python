{
 "cells": [
  {
   "cell_type": "code",
   "execution_count": 81,
   "id": "initial_id",
   "metadata": {
    "collapsed": true,
    "ExecuteTime": {
     "end_time": "2023-12-29T07:52:41.879760500Z",
     "start_time": "2023-12-29T07:52:41.870245Z"
    }
   },
   "outputs": [],
   "source": [
    "import pandas as pd\n",
    "import numpy as np\n",
    "import scipy\n",
    "from matplotlib import pyplot as plt"
   ]
  },
  {
   "cell_type": "code",
   "execution_count": 82,
   "outputs": [],
   "source": [
    "citynamelist=[\"bj\",\"sh\",\"gz\",\"sz\"]\n",
    "citynamelist_chinese=[\"北京\",\"上海\",\"广州\",\"深圳\"]\n",
    "df_list_2022=[]\n",
    "df_list_2023=[]"
   ],
   "metadata": {
    "collapsed": false,
    "ExecuteTime": {
     "end_time": "2023-12-29T07:52:41.893614200Z",
     "start_time": "2023-12-29T07:52:41.882757900Z"
    }
   },
   "id": "93ebc83e99259551"
  },
  {
   "cell_type": "code",
   "execution_count": 83,
   "outputs": [
    {
     "name": "stdout",
     "output_type": "stream",
     "text": [
      "Index(['name_chinese', 'block', 'house_type', 'direct', 'area', 'price'], dtype='object')\n",
      "Index(['name_chinese', 'block', 'house_type', 'direct', 'area', 'price'], dtype='object')\n"
     ]
    }
   ],
   "source": [
    "for i in range(len(citynamelist)):\n",
    "    df_2022=pd.read_csv(\"RawData\\\\\"+citynamelist[i]+\".csv\")\n",
    "    df_2023=pd.read_csv(citynamelist[i]+\"2.csv\")\n",
    "    df_2022 = df_2022.drop_duplicates()  # 去重\n",
    "    df_2022 = df_2022.dropna()  # 去空值\n",
    "    df_2023 = df_2023.drop_duplicates()  # 去重\n",
    "    df_2023 = df_2023.dropna()  # 去空值\n",
    "    df_list_2022.append(df_2022)\n",
    "    df_list_2023.append(df_2023)\n",
    "    # df_list_2023.append(pd.read_csv(citynamelist[i]+\"2.csv\"))\n",
    "    # df_list_2022.append(pd.read_csv(\"RawData\\\\\"+citynamelist[i]+\".csv\"))\n",
    "    \n",
    "print(df_list_2022[0].columns)\n",
    "print(df_list_2023[0].columns)"
   ],
   "metadata": {
    "collapsed": false,
    "ExecuteTime": {
     "end_time": "2023-12-29T07:52:42.326139700Z",
     "start_time": "2023-12-29T07:52:41.893614200Z"
    }
   },
   "id": "aff5d6194581ee10"
  },
  {
   "cell_type": "code",
   "execution_count": 84,
   "outputs": [
    {
     "name": "stdout",
     "output_type": "stream",
     "text": [
      "direct\n",
      "南     24568\n",
      "东      4287\n",
      "西      1948\n",
      "东南     1655\n",
      "北      1599\n",
      "西南     1231\n",
      "西北      642\n",
      "东北      524\n",
      "Name: count, dtype: int64\n",
      "direct\n",
      "南     24534\n",
      "北       645\n",
      "东       548\n",
      "东南      479\n",
      "西       298\n",
      "西南      270\n",
      "西北       80\n",
      "东北       55\n",
      "Name: count, dtype: int64\n",
      "direct\n",
      "南     23133\n",
      "东南     8293\n",
      "北      6505\n",
      "东      5005\n",
      "西南     2196\n",
      "东北     1846\n",
      "西      1310\n",
      "西北      986\n",
      "Name: count, dtype: int64\n",
      "direct\n",
      "南     8184\n",
      "东南    4912\n",
      "西南    1527\n",
      "北     1403\n",
      "东     1372\n",
      "西北     683\n",
      "东北     674\n",
      "西      470\n",
      "Name: count, dtype: int64\n"
     ]
    }
   ],
   "source": [
    "direct_list=[\"东\",\"南\",\"西\",\"北\",\"东南\",\"东北\",\"西南\",\"西北\"]\n",
    "for i in range(len(citynamelist)):\n",
    "    \n",
    "    df_list_2023[i][\"direct\"]=df_list_2023[i][\"direct\"].apply(lambda x: x.split(\"/\")[0] if x.split(\"/\")[0] in direct_list else None)\n",
    "    df_list_2023[i].dropna()\n",
    "    print(df_list_2023[i][\"direct\"].value_counts())\n",
    "    "
   ],
   "metadata": {
    "collapsed": false,
    "ExecuteTime": {
     "end_time": "2023-12-29T07:52:42.407975Z",
     "start_time": "2023-12-29T07:52:42.329141700Z"
    }
   },
   "id": "8ed659a2a65d2727"
  },
  {
   "cell_type": "code",
   "execution_count": 85,
   "outputs": [
    {
     "name": "stdout",
     "output_type": "stream",
     "text": [
      "direct\n",
      "南     0.620542\n",
      "东     0.143066\n",
      "西     0.059367\n",
      "东南    0.050991\n",
      "北     0.050608\n",
      "西南    0.038790\n",
      "西北    0.020056\n",
      "东北    0.016580\n",
      "Name: count, dtype: float64\n",
      "direct\n",
      "南     0.673945\n",
      "东     0.117600\n",
      "西     0.053437\n",
      "东南    0.045400\n",
      "北     0.043863\n",
      "西南    0.033769\n",
      "西北    0.017611\n",
      "东北    0.014374\n",
      "Name: count, dtype: float64\n",
      "house_type\n",
      "2.0    0.442231\n",
      "1.0    0.230379\n",
      "3.0    0.195899\n",
      "nan    0.131491\n",
      "Name: count, dtype: float64\n",
      "house_type\n",
      "2.0    0.496518\n",
      "1.0    0.272164\n",
      "3.0    0.184796\n",
      "nan    0.046521\n",
      "Name: count, dtype: float64\n",
      "block\n",
      "望京      0.026903\n",
      "回龙观     0.019048\n",
      "顺义城     0.013556\n",
      "北苑      0.012444\n",
      "后沙峪     0.011818\n",
      "          ...   \n",
      "琉璃河     0.000104\n",
      "怀柔其它    0.000104\n",
      "十八里店    0.000104\n",
      "天宫院南    0.000035\n",
      "延庆其它    0.000035\n",
      "Name: count, Length: 248, dtype: float64\n",
      "block\n",
      "望京       0.023165\n",
      "顺义城      0.019902\n",
      "长阳       0.013789\n",
      "朝青       0.012117\n",
      "双井       0.011952\n",
      "           ...   \n",
      "古北口镇     0.000082\n",
      "怀柔其它     0.000082\n",
      "巨各庄镇     0.000082\n",
      "平谷其它     0.000027\n",
      "西田各庄镇    0.000027\n",
      "Name: count, Length: 252, dtype: float64\n",
      "direct\n",
      "南     0.908071\n",
      "东     0.023579\n",
      "东南    0.021066\n",
      "北     0.020229\n",
      "西南    0.011685\n",
      "西     0.010093\n",
      "西北    0.003267\n",
      "东北    0.002010\n",
      "Name: count, dtype: float64\n",
      "direct\n",
      "南     0.911740\n",
      "北     0.023970\n",
      "东     0.020365\n",
      "东南    0.017801\n",
      "西     0.011074\n",
      "西南    0.010034\n",
      "西北    0.002973\n",
      "东北    0.002044\n",
      "Name: count, dtype: float64\n",
      "house_type\n",
      "2.0    0.438162\n",
      "1.0    0.291955\n",
      "3.0    0.215773\n",
      "nan    0.054111\n",
      "Name: count, dtype: float64\n",
      "house_type\n",
      "2.0    0.433926\n",
      "1.0    0.333111\n",
      "3.0    0.186704\n",
      "nan    0.046259\n",
      "Name: count, dtype: float64\n",
      "block\n",
      "徐家汇     0.020731\n",
      "徐泾      0.017590\n",
      "中山公园    0.015370\n",
      "华漕      0.014952\n",
      "泗泾      0.014323\n",
      "          ...   \n",
      "青村      0.000084\n",
      "大团镇     0.000042\n",
      "崇明其它    0.000042\n",
      "太仓      0.000042\n",
      "叶榭      0.000042\n",
      "Name: count, Length: 191, dtype: float64\n",
      "block\n",
      "顾村      0.019148\n",
      "徐家汇     0.018704\n",
      "泗泾      0.018222\n",
      "古美      0.016000\n",
      "金桥      0.015370\n",
      "          ...   \n",
      "合庆      0.000259\n",
      "重固      0.000148\n",
      "柘林      0.000148\n",
      "崇明其它    0.000111\n",
      "练塘      0.000037\n",
      "Name: count, Length: 189, dtype: float64\n",
      "direct\n",
      "南     0.450674\n",
      "东南    0.162283\n",
      "北     0.137535\n",
      "东     0.114844\n",
      "西南    0.049678\n",
      "东北    0.036627\n",
      "西     0.027926\n",
      "西北    0.020434\n",
      "Name: count, dtype: float64\n",
      "direct\n",
      "南     0.469477\n",
      "东南    0.168304\n",
      "北     0.132017\n",
      "东     0.101575\n",
      "西南    0.044567\n",
      "东北    0.037464\n",
      "西     0.026586\n",
      "西北    0.020011\n",
      "Name: count, dtype: float64\n",
      "house_type\n",
      "3.0    0.358918\n",
      "2.0    0.288860\n",
      "1.0    0.242576\n",
      "nan    0.109645\n",
      "Name: count, dtype: float64\n",
      "house_type\n",
      "3.0    0.362386\n",
      "2.0    0.267233\n",
      "1.0    0.216000\n",
      "nan    0.154380\n",
      "Name: count, dtype: float64\n",
      "block\n",
      "科学城     0.027095\n",
      "金沙洲     0.022384\n",
      "金洲      0.022330\n",
      "知识城     0.019893\n",
      "进港大道    0.016138\n",
      "          ...   \n",
      "良口镇     0.000018\n",
      "钟落潭     0.000018\n",
      "小楼镇     0.000018\n",
      "赤坭镇     0.000018\n",
      "鱼窝头     0.000018\n",
      "Name: count, Length: 241, dtype: float64\n",
      "block\n",
      "知识城    0.028768\n",
      "金洲     0.026239\n",
      "香雪     0.023419\n",
      "金沙洲    0.022641\n",
      "科学城    0.020754\n",
      "         ...   \n",
      "黄埔村    0.000078\n",
      "良田镇    0.000078\n",
      "鱼窝头    0.000058\n",
      "小楼镇    0.000039\n",
      "解放北    0.000019\n",
      "Name: count, Length: 231, dtype: float64\n",
      "direct\n",
      "南     0.420340\n",
      "东南    0.235436\n",
      "东     0.083627\n",
      "北     0.083033\n",
      "西南    0.075353\n",
      "西北    0.038101\n",
      "东北    0.035895\n",
      "西     0.028215\n",
      "Name: count, dtype: float64\n",
      "direct\n",
      "南     0.425696\n",
      "东南    0.255501\n",
      "西南    0.079428\n",
      "北     0.072978\n",
      "东     0.071365\n",
      "西北    0.035527\n",
      "东北    0.035059\n",
      "西     0.024447\n",
      "Name: count, dtype: float64\n",
      "house_type\n",
      "3.0    0.315457\n",
      "2.0    0.277568\n",
      "1.0    0.247486\n",
      "nan    0.159489\n",
      "Name: count, dtype: float64\n",
      "house_type\n",
      "3.0    0.335774\n",
      "2.0    0.237948\n",
      "nan    0.231282\n",
      "1.0    0.194996\n",
      "Name: count, dtype: float64\n",
      "block\n",
      "龙岗中心城    0.046459\n",
      "南山中心     0.033943\n",
      "皇岗       0.028767\n",
      "福田中心     0.026560\n",
      "大运新城     0.026094\n",
      "           ...   \n",
      "桃源居      0.002970\n",
      "曦城       0.002673\n",
      "黄木岗      0.000382\n",
      "福田中心区    0.000042\n",
      "南山中心区    0.000042\n",
      "Name: count, Length: 91, dtype: float64\n",
      "block\n",
      "龙岗中心城    0.045252\n",
      "前海       0.042764\n",
      "坪山       0.042341\n",
      "南山中心     0.034831\n",
      "蛇口       0.030184\n",
      "           ...   \n",
      "罗湖口岸     0.003239\n",
      "桃源居      0.002488\n",
      "石岩       0.001455\n",
      "黄木岗      0.001408\n",
      "地王       0.001408\n",
      "Name: count, Length: 85, dtype: float64\n"
     ]
    }
   ],
   "source": [
    "def get_house_type(x):\n",
    "    #12室，1室中提取室数\n",
    "    try:\n",
    "        y=int(x.replace(\"居\",\"\").replace(\"卫\",\"\").split(\"室\")[0])\n",
    "        if y<4 and y>0:\n",
    "            return y\n",
    "    except:\n",
    "        return None\n",
    "result_2022=[]\n",
    "result_2023=[]\n",
    "for i in range(len(citynamelist)):\n",
    "    result_2022_tmp={}\n",
    "    result_2023_tmp={}\n",
    "    result_2022_tmp[\"direct\"]=df_list_2022[i][\"direct\"].value_counts()/df_list_2022[i][\"direct\"].value_counts().sum()\n",
    "    result_2023_tmp[\"direct\"]=df_list_2023[i][\"direct\"].value_counts()/df_list_2023[i][\"direct\"].value_counts().sum()\n",
    "    print(result_2022_tmp[\"direct\"])\n",
    "    print(result_2023_tmp[\"direct\"])\n",
    "    df_list_2022[i][\"house_type\"]=df_list_2022[i][\"house_type\"].apply(get_house_type)\n",
    "    df_list_2023[i][\"house_type\"]=df_list_2023[i][\"house_type\"].apply(get_house_type)\n",
    "    #转化成str\n",
    "    df_list_2022[i][\"house_type\"]=df_list_2022[i][\"house_type\"].astype(str)\n",
    "    df_list_2023[i][\"house_type\"]=df_list_2023[i][\"house_type\"].astype(str)\n",
    "    df_list_2022[i].dropna()\n",
    "    df_list_2023[i].dropna()\n",
    "    result_2022_tmp[\"house_type\"]=df_list_2022[i][\"house_type\"].value_counts()/df_list_2022[i][\"house_type\"].value_counts().sum()\n",
    "    result_2023_tmp[\"house_type\"]=df_list_2023[i][\"house_type\"].value_counts()/df_list_2023[i][\"house_type\"].value_counts().sum()\n",
    "    print(result_2022_tmp[\"house_type\"])\n",
    "    print(result_2023_tmp[\"house_type\"])\n",
    "    result_2022_tmp[\"block\"]=df_list_2022[i][\"block\"].value_counts()/df_list_2022[i][\"block\"].value_counts().sum()\n",
    "    result_2023_tmp[\"block\"]=df_list_2023[i][\"block\"].value_counts()/df_list_2023[i][\"block\"].value_counts().sum()\n",
    "    result_2022.append(result_2022_tmp)\n",
    "    result_2023.append(result_2023_tmp)\n",
    "    print(result_2022_tmp[\"block\"])\n",
    "    print(result_2023_tmp[\"block\"])\n"
   ],
   "metadata": {
    "collapsed": false,
    "ExecuteTime": {
     "end_time": "2023-12-29T07:52:42.776592100Z",
     "start_time": "2023-12-29T07:52:42.412974100Z"
    }
   },
   "id": "92ea56d5e555ccc5"
  },
  {
   "cell_type": "code",
   "execution_count": 86,
   "outputs": [
    {
     "name": "stdout",
     "output_type": "stream",
     "text": [
      "南\n",
      "东\n",
      "西\n",
      "东南\n",
      "北\n",
      "西南\n",
      "西北\n",
      "东北\n",
      "2.0\n",
      "1.0\n",
      "3.0\n",
      "nan\n",
      "南\n",
      "东\n",
      "东南\n",
      "北\n",
      "西南\n",
      "西\n",
      "西北\n",
      "东北\n",
      "2.0\n",
      "1.0\n",
      "3.0\n",
      "nan\n",
      "南\n",
      "东南\n",
      "北\n",
      "东\n",
      "西南\n",
      "东北\n",
      "西\n",
      "西北\n",
      "3.0\n",
      "2.0\n",
      "1.0\n",
      "nan\n",
      "南\n",
      "东南\n",
      "东\n",
      "北\n",
      "西南\n",
      "西北\n",
      "东北\n",
      "西\n",
      "3.0\n",
      "2.0\n",
      "1.0\n",
      "0.24748610462896178\n",
      "0.19499600995165\n"
     ]
    },
    {
     "data": {
      "text/plain": "<Figure size 640x480 with 1 Axes>",
      "image/png": "[encoded data removed]"
     },
     "metadata": {},
     "output_type": "display_data"
    },
    {
     "name": "stdout",
     "output_type": "stream",
     "text": [
      "nan\n"
     ]
    }
   ],
   "source": [
    "plt.rcParams['font.sans-serif'] = ['SimHei']\n",
    "for i in range(len(citynamelist)):\n",
    "    for datatype in [\"direct\",\"house_type\"]:\n",
    "        #print(result_2022[i][datatype])\n",
    "        for j in range(len(result_2022[i][datatype])):\n",
    "            print(result_2022[i][datatype].index[j])\n",
    "            if result_2022[i][datatype].index[j]==\"nan\":\n",
    "                continue\n",
    "            #对比一下数据，差距大就输出\n",
    "            if (abs(result_2022[i][datatype][result_2022[i][datatype].index[j]]-result_2023[i][datatype][result_2022[i][datatype].index[j]])/result_2022[i][datatype][result_2022[i][datatype].index[j]])>0.2:\n",
    "                print(result_2022[i][datatype][result_2022[i][datatype].index[j]])\n",
    "                print(result_2023[i][datatype][result_2022[i][datatype].index[j]])\n",
    "                # print(citynamelist_chinese[i] +str(datatype + result_2022[i][datatype].index[j]) +\" 2022:\" + str(result_2022[i][datatype][j]) +\" 2023:\" + str(result_2023[i][datatype][j]))\n",
    "                # plt.bar([citynamelist_chinese[i]+\"2022\",citynamelist_chinese[i]+\"2023\"],result_2022[i][datatype][result_2022[i][datatype].index[j]],result_2023[i][datatype][result_2022[i][datatype].index[j]])\n",
    "                plt.bar([citynamelist_chinese[i]+\"2022\",citynamelist_chinese[i]+\"2023\"],[result_2022[i][datatype][result_2022[i][datatype].index[j]],result_2023[i][datatype][result_2022[i][datatype].index[j]]])\n",
    "                plt.title(citynamelist_chinese[i]+datatype+result_2022[i][datatype].index[j])\n",
    "                if datatype==\"house_type\":\n",
    "                    plt.title(citynamelist_chinese[i]+\"户型\"+result_2022[i][datatype].index[j])\n",
    "                plt.show()"
   ],
   "metadata": {
    "collapsed": false,
    "ExecuteTime": {
     "end_time": "2023-12-29T07:52:42.894726500Z",
     "start_time": "2023-12-29T07:52:42.780591300Z"
    }
   },
   "id": "9239fa00191527fa"
  },
  {
   "cell_type": "code",
   "execution_count": 87,
   "outputs": [
    {
     "name": "stdout",
     "output_type": "stream",
     "text": [
      "1.3\n"
     ]
    }
   ],
   "source": [
    "    \"\"\"name_chinese,block,house_type,direct,area,price\"\"\"\n",
    "#创建numpy.float64,值为1.3\n",
    "d=np.float64(1.3)\n",
    "print(str(d))"
   ],
   "metadata": {
    "collapsed": false,
    "ExecuteTime": {
     "end_time": "2023-12-29T07:52:42.895728600Z",
     "start_time": "2023-12-29T07:52:42.886476600Z"
    }
   },
   "id": "8c10e77ba6de1cad"
  },
  {
   "cell_type": "code",
   "execution_count": 88,
   "outputs": [
    {
     "name": "stdout",
     "output_type": "stream",
     "text": [
      "北京\n",
      "8753.166145290234\n",
      "8213.792559899117\n",
      "88.45004379562043\n",
      "86.79591973244148\n",
      "98.96169373885198\n",
      "94.63339503998677\n",
      "上海\n",
      "8354.498178163085\n",
      "7723.664333333333\n",
      "83.12921053733719\n",
      "80.42459481481481\n",
      "100.50015059881619\n",
      "96.03609879686427\n",
      "广州\n",
      "4258.598227340831\n",
      "4314.66321092352\n",
      "85.79525804646461\n",
      "87.10242326694157\n",
      "49.636755274218984\n",
      "49.53551289497919\n",
      "深圳\n",
      "7623.928804785947\n",
      "7566.694221471154\n",
      "79.89534515677373\n",
      "84.84397267990424\n",
      "95.42394228131789\n",
      "89.18363888992397\n"
     ]
    }
   ],
   "source": [
    "#比较一下2022和2023的单位面积价格\n",
    "for i in range(len(citynamelist)):\n",
    "    print(citynamelist_chinese[i])\n",
    "    print(df_list_2022[i][\"price\"].mean())\n",
    "    print(df_list_2023[i][\"price\"].mean())\n",
    "    print(df_list_2022[i][\"area\"].mean())\n",
    "    print(df_list_2023[i][\"area\"].mean())\n",
    "    print(df_list_2022[i][\"price\"].mean()/df_list_2022[i][\"area\"].mean())\n",
    "    print(df_list_2023[i][\"price\"].mean()/df_list_2023[i][\"area\"].mean())"
   ],
   "metadata": {
    "collapsed": false,
    "ExecuteTime": {
     "end_time": "2023-12-29T07:52:42.901131300Z",
     "start_time": "2023-12-29T07:52:42.890727600Z"
    }
   },
   "id": "6da8c49703adb0ea"
  },
  {
   "cell_type": "code",
   "execution_count": 89,
   "outputs": [
    {
     "name": "stdout",
     "output_type": "stream",
     "text": [
      "{'北京': -0.04373711216268258, '上海': -0.044418359329349184, '广州': -0.002039665539789567, '深圳': -0.06539557308371287}\n"
     ]
    }
   ],
   "source": [
    "#计算2022和2023的单位面积价格的增长率\n",
    "result={}\n",
    "for i in range(len(citynamelist)):\n",
    "    result[citynamelist_chinese[i]]=(df_list_2023[i][\"price\"].mean()/df_list_2023[i][\"area\"].mean()-(df_list_2022[i][\"price\"].mean()/df_list_2022[i][\"area\"].mean()))/(df_list_2022[i][\"price\"].mean()/df_list_2022[i][\"area\"].mean())\n",
    "print(result)"
   ],
   "metadata": {
    "collapsed": false,
    "ExecuteTime": {
     "end_time": "2023-12-29T07:52:42.907876600Z",
     "start_time": "2023-12-29T07:52:42.901131300Z"
    }
   },
   "id": "d6ddacf94e85ad2f"
  },
  {
   "cell_type": "code",
   "execution_count": 90,
   "outputs": [
    {
     "data": {
      "text/plain": "<Figure size 640x480 with 1 Axes>",
      "image/png": "[encoded data removed]"
     },
     "metadata": {},
     "output_type": "display_data"
    }
   ],
   "source": [
    "#绘制2022和2023的单位面积价格的增长率\n",
    "# plt.rcParams['font.family'] = 'DejaVu Sans'\n",
    "plt.rcParams['font.sans-serif']=['SimHei'] #用来正常显示中文标签\n",
    "plt.rcParams['axes.unicode_minus'] = False #用来正常显示负号\n",
    "plt.bar(result.keys(),result.values())\n",
    "plt.title(\"2022-2023单位面积价格增长率\")\n",
    "#加上数值\n",
    "for a,b in zip(result.keys(),result.values()):\n",
    "    plt.text(a, b-0.003, '%.2f' % b, ha='center', va= 'bottom',fontsize=11)\n",
    "plt.show()  "
   ],
   "metadata": {
    "collapsed": false,
    "ExecuteTime": {
     "end_time": "2023-12-29T07:52:43.051871Z",
     "start_time": "2023-12-29T07:52:42.908877600Z"
    }
   },
   "id": "b0077d66676ad28d"
  },
  {
   "cell_type": "code",
   "execution_count": 90,
   "outputs": [],
   "source": [],
   "metadata": {
    "collapsed": false,
    "ExecuteTime": {
     "end_time": "2023-12-29T07:52:43.054954Z",
     "start_time": "2023-12-29T07:52:43.052941900Z"
    }
   },
   "id": "6c5f54a7f345809f"
  }
 ],
 "metadata": {
  "kernelspec": {
   "display_name": "Python 3",
   "language": "python",
   "name": "python3"
  },
  "language_info": {
   "codemirror_mode": {
    "name": "ipython",
    "version": 2
   },
   "file_extension": ".py",
   "mimetype": "text/x-python",
   "name": "python",
   "nbconvert_exporter": "python",
   "pygments_lexer": "ipython2",
   "version": "2.7.6"
  }
 },
 "nbformat": 4,
 "nbformat_minor": 5
}
