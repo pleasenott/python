{
 "cells": [
  {
   "cell_type": "code",
   "execution_count": 78,
   "id": "initial_id",
   "metadata": {
    "collapsed": true,
    "ExecuteTime": {
     "end_time": "2023-12-25T13:03:57.958767100Z",
     "start_time": "2023-12-25T13:03:57.948387800Z"
    }
   },
   "outputs": [],
   "source": [
    "import pandas as pd\n",
    "import numpy as np\n",
    "import scipy\n",
    "from matplotlib import pyplot as plt\n",
    "import seaborn as sns"
   ]
  },
  {
   "cell_type": "code",
   "execution_count": 79,
   "outputs": [],
   "source": [
    "citynamelist=[\"bj\",\"sh\",\"gz\",\"sz\",\"zz\"]\n",
    "citynamelist_chinese=[\"北京\",\"上海\",\"广州\",\"深圳\",\"郑州\"]\n",
    "df_list=[]"
   ],
   "metadata": {
    "collapsed": false,
    "ExecuteTime": {
     "end_time": "2023-12-25T13:03:57.963778900Z",
     "start_time": "2023-12-25T13:03:57.953210400Z"
    }
   },
   "id": "a600ecdff60cb15b"
  },
  {
   "cell_type": "code",
   "execution_count": 80,
   "outputs": [
    {
     "name": "stdout",
     "output_type": "stream",
     "text": [
      "北京的数据数量为： 36478\n",
      "上海的数据数量为： 27000\n",
      "广州的数据数量为： 51412\n",
      "深圳的数据数量为： 21303\n",
      "郑州的数据数量为： 21796\n"
     ]
    }
   ],
   "source": [
    "result={}\n",
    "for i in range(len(citynamelist)):\n",
    "    filename=citynamelist[i]+\"2.csv\"\n",
    "    \"\"\"name_chinese,block,house_type,direct,area,price\"\"\"\n",
    "    df = pd.read_csv(filename, encoding='utf-8-sig')\n",
    "    df = df.drop_duplicates()  # 去重\n",
    "    df = df.dropna()  # 去空值\n",
    "    #输出数据数量\n",
    "    print(citynamelist_chinese[i]+\"的数据数量为：\",len(df))\n",
    "    df_list.append(df)"
   ],
   "metadata": {
    "collapsed": false,
    "ExecuteTime": {
     "end_time": "2023-12-25T13:03:58.273081300Z",
     "start_time": "2023-12-25T13:03:57.961777100Z"
    }
   },
   "id": "224630d5f86a635c"
  },
  {
   "cell_type": "code",
   "execution_count": 81,
   "outputs": [],
   "source": [
    "for i in range(len(citynamelist)):\n",
    "    df_list[i][\"pre_price\"]=df_list[i][\"price\"]/df_list[i][\"area\"]"
   ],
   "metadata": {
    "collapsed": false,
    "ExecuteTime": {
     "end_time": "2023-12-25T13:03:58.288079800Z",
     "start_time": "2023-12-25T13:03:58.266344500Z"
    }
   },
   "id": "2c0f72060b8cc7a3"
  },
  {
   "cell_type": "code",
   "execution_count": 82,
   "outputs": [
    {
     "name": "stdout",
     "output_type": "stream",
     "text": [
      "direct\n",
      "南     24568\n",
      "东      4287\n",
      "西      1948\n",
      "东南     1655\n",
      "北      1599\n",
      "西南     1231\n",
      "西北      642\n",
      "东北      524\n",
      "Name: count, dtype: int64\n",
      "direct\n",
      "南     24534\n",
      "北       645\n",
      "东       548\n",
      "东南      479\n",
      "西       298\n",
      "西南      270\n",
      "西北       80\n",
      "东北       55\n",
      "Name: count, dtype: int64\n",
      "direct\n",
      "南     23133\n",
      "东南     8293\n",
      "北      6505\n",
      "东      5005\n",
      "西南     2196\n",
      "东北     1846\n",
      "西      1310\n",
      "西北      986\n",
      "Name: count, dtype: int64\n",
      "direct\n",
      "南     8184\n",
      "东南    4912\n",
      "西南    1527\n",
      "北     1403\n",
      "东     1372\n",
      "西北     683\n",
      "东北     674\n",
      "西      470\n",
      "Name: count, dtype: int64\n",
      "direct\n",
      "南     15422\n",
      "东      1498\n",
      "北      1405\n",
      "西       837\n",
      "东南      826\n",
      "西南      452\n",
      "西北      213\n",
      "东北      141\n",
      "Name: count, dtype: int64\n"
     ]
    }
   ],
   "source": [
    "direct_list=[\"东\",\"南\",\"西\",\"北\",\"东南\",\"东北\",\"西南\",\"西北\"]\n",
    "for i in range(len(citynamelist)):\n",
    "    df_list[i][\"direct\"]=df_list[i][\"direct\"].apply(lambda x: x.split(\"/\")[0] if x.split(\"/\")[0] in direct_list else None)\n",
    "    df.dropna()\n",
    "    print(df_list[i][\"direct\"].value_counts())"
   ],
   "metadata": {
    "collapsed": false,
    "ExecuteTime": {
     "end_time": "2023-12-25T13:03:58.373261600Z",
     "start_time": "2023-12-25T13:03:58.277080Z"
    }
   },
   "id": "ad6600f338bc88e2"
  },
  {
   "cell_type": "code",
   "execution_count": 83,
   "outputs": [
    {
     "name": "stdout",
     "output_type": "stream",
     "text": [
      "北京的朝向数量为： 8\n",
      "direct\n",
      "东     108.358711\n",
      "东北    106.085352\n",
      "东南    102.649433\n",
      "北     118.973375\n",
      "南      90.483410\n",
      "西     110.478478\n",
      "西北    106.458907\n",
      "西南    101.871385\n",
      "Name: pre_price, dtype: float64\n",
      "--------------------------------------------------\n",
      "上海的朝向数量为： 8\n",
      "direct\n",
      "东     124.402859\n",
      "东北    118.591448\n",
      "东南    115.375201\n",
      "北     125.710787\n",
      "南      97.170399\n",
      "西     123.662542\n",
      "西北    138.962418\n",
      "西南    125.764428\n",
      "Name: pre_price, dtype: float64\n",
      "--------------------------------------------------\n",
      "广州的朝向数量为： 8\n",
      "direct\n",
      "东     61.633372\n",
      "东北    47.599844\n",
      "东南    51.800236\n",
      "北     52.359583\n",
      "南     49.110575\n",
      "西     62.658937\n",
      "西北    53.684822\n",
      "西南    53.886167\n",
      "Name: pre_price, dtype: float64\n",
      "--------------------------------------------------\n",
      "深圳的朝向数量为： 8\n",
      "direct\n",
      "东     103.229036\n",
      "东北     94.378495\n",
      "东南     85.374174\n",
      "北      99.265718\n",
      "南      88.446401\n",
      "西     110.813338\n",
      "西北     92.672333\n",
      "西南     89.056923\n",
      "Name: pre_price, dtype: float64\n",
      "--------------------------------------------------\n",
      "郑州的朝向数量为： 8\n",
      "direct\n",
      "东     27.547169\n",
      "东北    30.154301\n",
      "东南    25.947680\n",
      "北     30.763639\n",
      "南     23.324849\n",
      "西     28.755855\n",
      "西北    27.758376\n",
      "西南    24.539069\n",
      "Name: pre_price, dtype: float64\n",
      "--------------------------------------------------\n"
     ]
    }
   ],
   "source": [
    "for i in range(len(citynamelist)):\n",
    "    result[citynamelist_chinese[i]]=df_list[i].groupby(\"direct\")[\"pre_price\"].mean()\n",
    "    print(citynamelist_chinese[i]+\"的朝向数量为：\",len(result[citynamelist_chinese[i]]))\n",
    "    print(result[citynamelist_chinese[i]])\n",
    "    print(\"--------------------------------------------------\")"
   ],
   "metadata": {
    "collapsed": false,
    "ExecuteTime": {
     "end_time": "2023-12-25T13:03:58.440908200Z",
     "start_time": "2023-12-25T13:03:58.373261600Z"
    }
   },
   "id": "2596445140a77bd8"
  },
  {
   "cell_type": "code",
   "execution_count": 84,
   "outputs": [
    {
     "name": "stdout",
     "output_type": "stream",
     "text": [
      "name_chinese\n",
      "广州    51412\n",
      "北京    36478\n",
      "上海    27000\n",
      "郑州    21796\n",
      "深圳    21303\n",
      "Name: count, dtype: int64\n",
      "Empty DataFrame\n",
      "Columns: [name_chinese, block, house_type, direct, area, price, pre_price]\n",
      "Index: []\n"
     ]
    }
   ],
   "source": [
    "#把所以df_list合起来\n",
    "df_all=pd.concat(df_list)\n",
    "print(df_all[\"name_chinese\"].value_counts())\n",
    "print(df_all[df_all[\"direct\"]==\"广州\"])"
   ],
   "metadata": {
    "collapsed": false,
    "ExecuteTime": {
     "end_time": "2023-12-25T13:03:58.441906Z",
     "start_time": "2023-12-25T13:03:58.396082Z"
    }
   },
   "id": "ac02199504ea8771"
  },
  {
   "cell_type": "code",
   "execution_count": 87,
   "outputs": [
    {
     "data": {
      "text/plain": "Text(95.97222222222221, 0.5, '城市')"
     },
     "execution_count": 87,
     "metadata": {},
     "output_type": "execute_result"
    },
    {
     "data": {
      "text/plain": "<Figure size 1000x600 with 2 Axes>",
      "image/png": "[encoded data removed]"
     },
     "metadata": {},
     "output_type": "display_data"
    }
   ],
   "source": [
    "#根据name_chinese和direct绘制pre_price的热力图\n",
    "plt.rcParams['font.sans-serif'] = ['SimHei']\n",
    "plt.figure(figsize=(10,6))\n",
    "#红色\n",
    "sns.heatmap(df_all.pivot_table(index=\"name_chinese\",columns=\"direct\",values=\"pre_price\"),annot=True,fmt=\".1f\",linewidths=.5,cmap=\"Reds\")\n",
    "#更改一下坐标轴的名字\n",
    "plt.xlabel(\"朝向\")\n",
    "plt.ylabel(\"城市\")\n",
    "\n",
    "\n"
   ],
   "metadata": {
    "collapsed": false,
    "ExecuteTime": {
     "end_time": "2023-12-25T13:13:53.820540800Z",
     "start_time": "2023-12-25T13:13:53.451085600Z"
    }
   },
   "id": "1dcb2cc455181fa3"
  },
  {
   "cell_type": "code",
   "execution_count": 85,
   "outputs": [],
   "source": [],
   "metadata": {
    "collapsed": false,
    "ExecuteTime": {
     "end_time": "2023-12-25T13:03:58.790255200Z",
     "start_time": "2023-12-25T13:03:58.787216700Z"
    }
   },
   "id": "9da224126f0f1652"
  }
 ],
 "metadata": {
  "kernelspec": {
   "display_name": "Python 3",
   "language": "python",
   "name": "python3"
  },
  "language_info": {
   "codemirror_mode": {
    "name": "ipython",
    "version": 2
   },
   "file_extension": ".py",
   "mimetype": "text/x-python",
   "name": "python",
   "nbconvert_exporter": "python",
   "pygments_lexer": "ipython2",
   "version": "2.7.6"
  }
 },
 "nbformat": 4,
 "nbformat_minor": 5
}
